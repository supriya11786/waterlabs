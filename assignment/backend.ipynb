{
 "cells": [
  {
   "cell_type": "code",
   "execution_count": 7,
   "id": "1ab7c98b-14a2-4db4-a010-69fbd638d4c3",
   "metadata": {},
   "outputs": [
    {
     "name": "stdout",
     "output_type": "stream",
     "text": [
      " * Serving Flask app '__main__'\n",
      " * Debug mode: on\n"
     ]
    },
    {
     "name": "stderr",
     "output_type": "stream",
     "text": [
      "WARNING: This is a development server. Do not use it in a production deployment. Use a production WSGI server instead.\n",
      " * Running on http://127.0.0.1:5000\n",
      "Press CTRL+C to quit\n",
      " * Restarting with stat\n"
     ]
    },
    {
     "ename": "SystemExit",
     "evalue": "1",
     "output_type": "error",
     "traceback": [
      "An exception has occurred, use %tb to see the full traceback.\n",
      "\u001b[1;31mSystemExit\u001b[0m\u001b[1;31m:\u001b[0m 1\n"
     ]
    },
    {
     "name": "stderr",
     "output_type": "stream",
     "text": [
      "C:\\Users\\supri\\miniforge3\\lib\\site-packages\\IPython\\core\\interactiveshell.py:3585: UserWarning: To exit: use 'exit', 'quit', or Ctrl-D.\n",
      "  warn(\"To exit: use 'exit', 'quit', or Ctrl-D.\", stacklevel=1)\n"
     ]
    }
   ],
   "source": [
    "from flask import Flask, request, jsonify\n",
    "import pandas as pd\n",
    "\n",
    "app = Flask(__name__)\n",
    "\n",
    "# Load the dataset once at the start\n",
    "df = pd.read_csv('Documents/hotel_bookings_1000.csv')\n",
    "\n",
    "# Clean and preprocess the data\n",
    "df['arrival_date'] = pd.to_datetime(df['arrival_date_year'].astype(str) + '-' +\n",
    "                                    df['arrival_date_month'] + '-' +\n",
    "                                    df['arrival_date_day_of_month'].astype(str))\n",
    "\n",
    "@app.route('/get-data', methods=['GET'])\n",
    "def get_data():\n",
    "    # Get date range from query parameters\n",
    "    start_date = request.args.get('start_date')\n",
    "    end_date = request.args.get('end_date')\n",
    "\n",
    "    # Filter the dataframe by the date range\n",
    "    if start_date and end_date:\n",
    "        filtered_data = df[(df['arrival_date'] >= start_date) & (df['arrival_date'] <= end_date)]\n",
    "    else:\n",
    "        filtered_data = df\n",
    "\n",
    "    # Prepare the data for the charts\n",
    "    # 1. Time Series: Sum of visitors (adults + children + babies) per day\n",
    "    time_series = filtered_data.groupby('arrival_date').agg(\n",
    "        visitors=pd.NamedAgg(column='adults', aggfunc='sum') +\n",
    "                 pd.NamedAgg(column='children', aggfunc='sum') +\n",
    "                 pd.NamedAgg(column='babies', aggfunc='sum')\n",
    "    ).reset_index().to_dict(orient='records')\n",
    "\n",
    "    # 2. Country-wise Visitors\n",
    "    country_data = filtered_data.groupby('country').size().reset_index(name='visitors').to_dict(orient='records')\n",
    "\n",
    "    # 3. Sparklines Data\n",
    "    adults_data = filtered_data.groupby('arrival_date')['adults'].sum().tolist()\n",
    "    children_data = filtered_data.groupby('arrival_date')['children'].sum().tolist()\n",
    "\n",
    "    # Return the results as JSON\n",
    "    return jsonify({\n",
    "        'time_series': time_series,\n",
    "        'countries': country_data,\n",
    "        'adults': adults_data,\n",
    "        'children': children_data\n",
    "    })\n",
    "\n",
    "if __name__ == '__main__':\n",
    "    app.run(debug=True)\n",
    "\n"
   ]
  },
  {
   "cell_type": "code",
   "execution_count": null,
   "id": "765e2e59-3c9e-498e-b7c8-62e165bbf943",
   "metadata": {},
   "outputs": [],
   "source": []
  }
 ],
 "metadata": {
  "kernelspec": {
   "display_name": "Python 3 (ipykernel)",
   "language": "python",
   "name": "python3"
  },
  "language_info": {
   "codemirror_mode": {
    "name": "ipython",
    "version": 3
   },
   "file_extension": ".py",
   "mimetype": "text/x-python",
   "name": "python",
   "nbconvert_exporter": "python",
   "pygments_lexer": "ipython3",
   "version": "3.10.14"
  }
 },
 "nbformat": 4,
 "nbformat_minor": 5
}
